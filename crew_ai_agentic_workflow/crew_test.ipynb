{
 "cells": [
  {
   "cell_type": "code",
   "execution_count": 1,
   "metadata": {},
   "outputs": [],
   "source": [
    "from langchain_openai import ChatOpenAI\n",
    "from crewai import Crew, Process, Agent"
   ]
  },
  {
   "cell_type": "code",
   "execution_count": null,
   "metadata": {},
   "outputs": [],
   "source": [
    "\n",
    "\n",
    "# Agents are defined with attributes for backstory, cache, and verbose mode\n",
    "researcher = Agent(\n",
    "    role='Researcher',\n",
    "    goal='Conduct in-depth analysis',\n",
    "    backstory='Experienced data analyst with a knack for uncovering hidden trends.',\n",
    "    cache=True,\n",
    "    verbose=False,\n",
    "    # tools=[]  # This can be optionally specified; defaults to an empty list\n",
    "    use_system_prompt=True,  # Enable or disable system prompts for this agent\n",
    "    max_rpm=30,  # Limit on the number of requests per minute\n",
    "    max_iter=5  # Maximum number of iterations for a final answer\n",
    ")\n",
    "writer = Agent(\n",
    "    role='Writer',\n",
    "    goal='Create engaging content',\n",
    "    backstory='Creative writer passionate about storytelling in technical domains.',\n",
    "    cache=True,\n",
    "    verbose=False,\n",
    "    # tools=[]  # Optionally specify tools; defaults to an empty list\n",
    "    use_system_prompt=True,  # Enable or disable system prompts for this agent\n",
    "    max_rpm=30,  # Limit on the number of requests per minute\n",
    "    max_iter=5  # Maximum number of iterations for a final answer\n",
    ")\n",
    "\n",
    "# Establishing the crew with a hierarchical process and additional configurations\n",
    "project_crew = Crew(\n",
    "    tasks=[...],  # Tasks to be delegated and executed under the manager's supervision\n",
    "    agents=[researcher, writer],\n",
    "    manager_llm=ChatOpenAI(temperature=0, model=\"gpt-4\"),  # Mandatory if manager_agent is not set\n",
    "    process=Process.hierarchical,  # Specifies the hierarchical management approach\n",
    "    respect_context_window=True,  # Enable respect of the context window for tasks\n",
    "    memory=True,  # Enable memory usage for enhanced task execution\n",
    "    manager_agent=None,  # Optional: explicitly set a specific agent as manager instead of the manager_llm\n",
    "    planning=True,  # Enable planning feature for pre-execution strategy\n",
    ")\n"
   ]
  },
  {
   "cell_type": "code",
   "execution_count": null,
   "metadata": {},
   "outputs": [],
   "source": []
  },
  {
   "cell_type": "code",
   "execution_count": null,
   "metadata": {},
   "outputs": [],
   "source": []
  },
  {
   "cell_type": "code",
   "execution_count": null,
   "metadata": {},
   "outputs": [],
   "source": []
  }
 ],
 "metadata": {
  "kernelspec": {
   "display_name": "base",
   "language": "python",
   "name": "python3"
  },
  "language_info": {
   "codemirror_mode": {
    "name": "ipython",
    "version": 3
   },
   "file_extension": ".py",
   "mimetype": "text/x-python",
   "name": "python",
   "nbconvert_exporter": "python",
   "pygments_lexer": "ipython3",
   "version": "3.11.5"
  }
 },
 "nbformat": 4,
 "nbformat_minor": 2
}
