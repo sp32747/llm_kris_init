{
 "cells": [
  {
   "cell_type": "code",
   "execution_count": 4,
   "metadata": {},
   "outputs": [
    {
     "name": "stdout",
     "output_type": "stream",
     "text": [
      "10\n"
     ]
    }
   ],
   "source": [
    "x=10\n",
    "y=15\n",
    "\n",
    "z=x if x<y else y\n",
    "print(x)\n"
   ]
  },
  {
   "cell_type": "code",
   "execution_count": 8,
   "metadata": {},
   "outputs": [
    {
     "ename": "NameError",
     "evalue": "name 'ORD' is not defined",
     "output_type": "error",
     "traceback": [
      "\u001b[1;31m---------------------------------------------------------------------------\u001b[0m",
      "\u001b[1;31mNameError\u001b[0m                                 Traceback (most recent call last)",
      "Cell \u001b[1;32mIn[8], line 1\u001b[0m\n\u001b[1;32m----> 1\u001b[0m ORD(\u001b[38;5;124m\"\u001b[39m\u001b[38;5;124mA\u001b[39m\u001b[38;5;124m\"\u001b[39m)\n",
      "\u001b[1;31mNameError\u001b[0m: name 'ORD' is not defined"
     ]
    }
   ],
   "source": [
    "ORD(\"A\")"
   ]
  },
  {
   "cell_type": "code",
   "execution_count": 13,
   "metadata": {},
   "outputs": [
    {
     "name": "stdout",
     "output_type": "stream",
     "text": [
      "1\n",
      "2\n",
      "3\n",
      "4\n",
      "5\n"
     ]
    }
   ],
   "source": [
    "x=[1,2,3,4,5]\n",
    "i=-1\n",
    "while ((i:=i+1)<len(x)):\n",
    "    print(x[i])\n",
    "    "
   ]
  },
  {
   "cell_type": "code",
   "execution_count": 24,
   "metadata": {},
   "outputs": [
    {
     "name": "stdout",
     "output_type": "stream",
     "text": [
      "blue is sky\n"
     ]
    }
   ],
   "source": [
    "str1=\"sky is blue\"\n",
    "mylist=str1.split()\n",
    "\n",
    "mylist=mylist[::-1]\n",
    "\n",
    "str2=\" \".join(mylist)\n",
    "print(str2)\n"
   ]
  },
  {
   "cell_type": "code",
   "execution_count": 26,
   "metadata": {},
   "outputs": [
    {
     "data": {
      "text/plain": [
       "'blue is sky'"
      ]
     },
     "execution_count": 26,
     "metadata": {},
     "output_type": "execute_result"
    }
   ],
   "source": [
    "str1=\" \".join(\"sky is blue\".split()[::-1])\n",
    "\n",
    "str1"
   ]
  },
  {
   "cell_type": "markdown",
   "metadata": {},
   "source": [
    "#find single occurence of elements"
   ]
  },
  {
   "cell_type": "code",
   "execution_count": 72,
   "metadata": {},
   "outputs": [
    {
     "name": "stdout",
     "output_type": "stream",
     "text": [
      "[1, 5]\n"
     ]
    }
   ],
   "source": [
    "lst=[1,2,2,2,3,3,4,4,5,6,6,7,7,8,8,9,9,10,10]\n",
    "lst2=[]\n",
    "for num in lst:\n",
    "    if lst.count(num)==1:\n",
    "        lst2.append(num)\n",
    "print(lst2)"
   ]
  },
  {
   "cell_type": "code",
   "execution_count": 31,
   "metadata": {},
   "outputs": [
    {
     "data": {
      "text/plain": [
       "[4, 5]"
      ]
     },
     "execution_count": 31,
     "metadata": {},
     "output_type": "execute_result"
    }
   ],
   "source": [
    "# list comprehension    \n",
    "# [expression for variable in iterable *** if condition]\n",
    "\n",
    "\n",
    "lst3=[num for num in lst if lst.count(num)==1]\n",
    "lst3"
   ]
  },
  {
   "cell_type": "code",
   "execution_count": 37,
   "metadata": {},
   "outputs": [
    {
     "data": {
      "text/plain": [
       "[4, 9, 16, 25, 36, 81]"
      ]
     },
     "execution_count": 37,
     "metadata": {},
     "output_type": "execute_result"
    }
   ],
   "source": [
    "lst4=[2,3,4,5,6,9]\n",
    "[num*num for num in lst4] \n"
   ]
  },
  {
   "cell_type": "code",
   "execution_count": 36,
   "metadata": {},
   "outputs": [
    {
     "data": {
      "text/plain": [
       "[2, 4]"
      ]
     },
     "execution_count": 36,
     "metadata": {},
     "output_type": "execute_result"
    }
   ],
   "source": [
    "[num for num in lst4 if num%2==0]"
   ]
  },
  {
   "cell_type": "code",
   "execution_count": 38,
   "metadata": {},
   "outputs": [
    {
     "data": {
      "text/plain": [
       "[36]"
      ]
     },
     "execution_count": 38,
     "metadata": {},
     "output_type": "execute_result"
    }
   ],
   "source": [
    "[num*num for num in lst4 if num%2==0 if num%3==0]"
   ]
  },
  {
   "cell_type": "code",
   "execution_count": 40,
   "metadata": {},
   "outputs": [
    {
     "data": {
      "text/plain": [
       "[4, 27, 16, 125, 36, 729]"
      ]
     },
     "execution_count": 40,
     "metadata": {},
     "output_type": "execute_result"
    }
   ],
   "source": [
    "## if else list comprehension\n",
    "## [expression if condition else expression for variable in iterable]\n",
    "\n",
    "[num*num if num%2==0 else num*num*num for num in lst4]\n"
   ]
  },
  {
   "cell_type": "code",
   "execution_count": 46,
   "metadata": {},
   "outputs": [
    {
     "name": "stdout",
     "output_type": "stream",
     "text": [
      "[1, 2]\n",
      "[4, 5]\n"
     ]
    }
   ],
   "source": [
    "print([i for i in range(1,3)])\n",
    "print([j for j in range(4,6)])"
   ]
  },
  {
   "cell_type": "code",
   "execution_count": 41,
   "metadata": {},
   "outputs": [
    {
     "data": {
      "text/plain": [
       "[4, 5, 8, 10]"
      ]
     },
     "execution_count": 41,
     "metadata": {},
     "output_type": "execute_result"
    }
   ],
   "source": [
    "[i*j for i in range(1,3) for j in range(4,6)]"
   ]
  },
  {
   "cell_type": "code",
   "execution_count": 74,
   "metadata": {},
   "outputs": [
    {
     "name": "stdout",
     "output_type": "stream",
     "text": [
      "a 3\n",
      "b 2\n",
      "c 4\n",
      "d 5\n"
     ]
    }
   ],
   "source": [
    "mystr=\"a,a,a,b,b,c,c,c,c,d,d,d,d,d\"\n",
    "\n",
    "mylist=mystr.split(\",\")\n",
    "visited=[]\n",
    "\n",
    "for i in mylist:\n",
    "    if i not in visited:\n",
    "        visited.append(i)\n",
    "        print(i,mylist.count(i))"
   ]
  },
  {
   "cell_type": "code",
   "execution_count": 48,
   "metadata": {},
   "outputs": [
    {
     "name": "stdout",
     "output_type": "stream",
     "text": [
      "2 97\n"
     ]
    }
   ],
   "source": [
    "## finding minimum and maximum in a list\n",
    "lst=[15,2,3,74,5,6,97,8,9,10]\n",
    "\n",
    "min=lst[0]\n",
    "max=lst[0]\n",
    "for i in lst:\n",
    "    if i<min:\n",
    "        min=i\n",
    "    if i>max:\n",
    "        max=i\n",
    "\n",
    "print(min,max)\n"
   ]
  },
  {
   "cell_type": "code",
   "execution_count": 50,
   "metadata": {},
   "outputs": [
    {
     "data": {
      "text/plain": [
       "[15, 2, 3, 74, 5, 6, 97, 8, 9, 10, 125, 233, 453, 754, 5, 6, 97, 8, 9, 10]"
      ]
     },
     "execution_count": 50,
     "metadata": {},
     "output_type": "execute_result"
    }
   ],
   "source": [
    "lst6=[15,2,3,74,5,6,97,8,9,10]\n",
    "lst7=[125,233,453,754,5,6,97,8,9,10]\n",
    "\n",
    "lst6.extend(lst7)\n",
    "lst6"
   ]
  },
  {
   "cell_type": "code",
   "execution_count": 76,
   "metadata": {},
   "outputs": [
    {
     "name": "stdout",
     "output_type": "stream",
     "text": [
      "sky 3\n",
      "is 1\n",
      "blue 2\n",
      "blue 2\n",
      "sky 3\n",
      "sky 3\n",
      "sree 3\n",
      "sree 3\n",
      "sree 3\n"
     ]
    }
   ],
   "source": [
    "str1=\"sky is blue blue sky sky sree sree sree\"\n",
    "\n",
    "mylist=str1.split()\n",
    "for i in mylist:\n",
    "    print(i,mylist.count(i))"
   ]
  },
  {
   "cell_type": "code",
   "execution_count": 77,
   "metadata": {},
   "outputs": [
    {
     "name": "stdout",
     "output_type": "stream",
     "text": [
      "{'sree', 'sky', 'blue'}\n"
     ]
    }
   ],
   "source": [
    "x=[i for i in mylist if mylist.count(i)>=2]\n",
    "print(set(x))"
   ]
  },
  {
   "cell_type": "code",
   "execution_count": 2,
   "metadata": {},
   "outputs": [
    {
     "data": {
      "text/plain": [
       "'password is good'"
      ]
     },
     "execution_count": 2,
     "metadata": {},
     "output_type": "execute_result"
    }
   ],
   "source": [
    "### password checker\n",
    "\n",
    "def password_checker(password):\n",
    "    if len(password)<8:\n",
    "        return \"password should be atleast 8 characters\"\n",
    "    elif not any(i.isdigit() for i in password):\n",
    "        return \"password should have atleast one digit\"\n",
    "    elif not any(i.isupper() for i in password):\n",
    "        return \"password should have atleast one uppercase letter\"\n",
    "    elif not any(i.islower() for i in password):\n",
    "        return \"password should have atleast one lowercase letter\"\n",
    "    else:\n",
    "        return \"password is good\"\n",
    "    \n",
    "password_checker(\"Sree1234\")"
   ]
  },
  {
   "cell_type": "code",
   "execution_count": 3,
   "metadata": {},
   "outputs": [
    {
     "name": "stdout",
     "output_type": "stream",
     "text": [
      "50\n"
     ]
    }
   ],
   "source": [
    "## total price in the cart\n",
    "cart=[{\"item\":\"apple\",\"price\":10,\"quantity\":2},\n",
    "      {\"item\":\"banana\",\"price\":5,\"quantity\":3},\n",
    "      {\"item\":\"orange\",\"price\":15,\"quantity\":1}]\n",
    "\n",
    "\n",
    "total=0\n",
    "\n",
    "for i in cart:\n",
    "    total+=i[\"price\"]*i[\"quantity\"]\n",
    "print(total)"
   ]
  },
  {
   "cell_type": "code",
   "execution_count": 31,
   "metadata": {},
   "outputs": [
    {
     "data": {
      "text/plain": [
       "'siat'"
      ]
     },
     "execution_count": 31,
     "metadata": {},
     "output_type": "execute_result"
    }
   ],
   "source": [
    "# collection[start:stop:step] is [::]\n",
    "\n",
    "s=\"srikanta\"\n",
    "\n",
    "\n",
    "s[0::2]"
   ]
  },
  {
   "cell_type": "code",
   "execution_count": 32,
   "metadata": {},
   "outputs": [
    {
     "data": {
      "text/plain": [
       "True"
      ]
     },
     "execution_count": 32,
     "metadata": {},
     "output_type": "execute_result"
    }
   ],
   "source": [
    "##paliandrome\n",
    "\n",
    "\n",
    "def is_paliandrome(s):\n",
    "    return s==s[::-1]\n",
    "\n",
    "is_paliandrome(\"madam\")"
   ]
  },
  {
   "cell_type": "code",
   "execution_count": 33,
   "metadata": {},
   "outputs": [
    {
     "data": {
      "text/plain": [
       "'atnakirs'"
      ]
     },
     "execution_count": 33,
     "metadata": {},
     "output_type": "execute_result"
    }
   ],
   "source": [
    "##reverse a string\n",
    "\n",
    "s=\"srikanta\"\n",
    "s[::-1]"
   ]
  },
  {
   "cell_type": "code",
   "execution_count": 39,
   "metadata": {},
   "outputs": [
    {
     "name": "stdout",
     "output_type": "stream",
     "text": [
      "atnakirs\n"
     ]
    }
   ],
   "source": [
    "##reverse a string without slicing\n",
    "\n",
    "s=\"srikanta\"\n",
    "str1=\"\"\n",
    "for i in s:\n",
    "    str1=i+str1\n",
    "    \n",
    "print(str1)"
   ]
  },
  {
   "cell_type": "code",
   "execution_count": 34,
   "metadata": {},
   "outputs": [
    {
     "data": {
      "text/plain": [
       "'atnakirs'"
      ]
     },
     "execution_count": 34,
     "metadata": {},
     "output_type": "execute_result"
    }
   ],
   "source": [
    "##reverse a string without using slicing\n",
    "\n",
    "def reverse_string(s):\n",
    "    str1=\"\"\n",
    "    for i in s:\n",
    "        str1=i+str1\n",
    "    return str1 \n",
    "\n",
    "reverse_string(\"srikanta\")\n"
   ]
  },
  {
   "cell_type": "code",
   "execution_count": 42,
   "metadata": {},
   "outputs": [
    {
     "name": "stdout",
     "output_type": "stream",
     "text": [
      "5\n",
      "4\n",
      "3\n",
      "2\n",
      "1\n",
      "0\n"
     ]
    }
   ],
   "source": [
    "\n",
    "def count(num):\n",
    "    print(num)\n",
    "    if num==0:\n",
    "        return 0\n",
    "    else:\n",
    "        count(num-1) \n",
    "\n",
    "count(5)"
   ]
  },
  {
   "cell_type": "code",
   "execution_count": 45,
   "metadata": {},
   "outputs": [
    {
     "data": {
      "text/plain": [
       "120"
      ]
     },
     "execution_count": 45,
     "metadata": {},
     "output_type": "execute_result"
    }
   ],
   "source": [
    "## factorial of a number\n",
    "\n",
    "def factorial(num):\n",
    "    fact=1;\n",
    "    if num==0:\n",
    "        return fact\n",
    "    else:\n",
    "        return num*factorial(num-1)\n",
    "    \n",
    "\n",
    "factorial(5)"
   ]
  },
  {
   "cell_type": "code",
   "execution_count": 49,
   "metadata": {},
   "outputs": [
    {
     "data": {
      "text/plain": [
       "5"
      ]
     },
     "execution_count": 49,
     "metadata": {},
     "output_type": "execute_result"
    }
   ],
   "source": [
    "addition=lambda x,y : x+y\n",
    "addition(2,3)"
   ]
  },
  {
   "cell_type": "code",
   "execution_count": 48,
   "metadata": {},
   "outputs": [
    {
     "data": {
      "text/plain": [
       "10"
      ]
     },
     "execution_count": 48,
     "metadata": {},
     "output_type": "execute_result"
    }
   ],
   "source": [
    "### lambda function\n",
    "addition=lambda *args : sum(args)\n",
    "\n",
    "addition(2,3,5)"
   ]
  },
  {
   "cell_type": "code",
   "execution_count": 53,
   "metadata": {},
   "outputs": [
    {
     "data": {
      "text/plain": [
       "[1, 4, 9, 16, 25, 36, 49, 64, 81, 100]"
      ]
     },
     "execution_count": 53,
     "metadata": {},
     "output_type": "execute_result"
    }
   ],
   "source": [
    "numbers=[1,2,3,4,5,6,7,8,9,10]\n",
    "\n",
    "x=list(map(lambda x:x*x,numbers))\n",
    "\n",
    "x"
   ]
  },
  {
   "cell_type": "code",
   "execution_count": 55,
   "metadata": {},
   "outputs": [
    {
     "data": {
      "text/plain": [
       "[11, 11, 11, 11, 11, 11, 11, 11, 11, 11]"
      ]
     },
     "execution_count": 55,
     "metadata": {},
     "output_type": "execute_result"
    }
   ],
   "source": [
    "numbers1=[1,2,3,4,5,6,7,8,9,10]\n",
    "numbers2=[10,9,8,7,6,5,4,3,2,1]\n",
    "\n",
    "x=list(map(lambda x,y:x+y,numbers1,numbers2))\n",
    "x"
   ]
  },
  {
   "cell_type": "code",
   "execution_count": 56,
   "metadata": {},
   "outputs": [
    {
     "data": {
      "text/plain": [
       "['1', '2', '3', '4', '5', '6', '7', '8', '9', '10']"
      ]
     },
     "execution_count": 56,
     "metadata": {},
     "output_type": "execute_result"
    }
   ],
   "source": [
    "#convert list of integers to string\n",
    "\n",
    "numbers=[1,2,3,4,5,6,7,8,9,10]\n",
    "\n",
    "x=list(map(str,numbers))\n",
    "x"
   ]
  },
  {
   "cell_type": "code",
   "execution_count": 58,
   "metadata": {},
   "outputs": [
    {
     "data": {
      "text/plain": [
       "['sree', 'kanta', 'sri']"
      ]
     },
     "execution_count": 58,
     "metadata": {},
     "output_type": "execute_result"
    }
   ],
   "source": [
    "\n",
    "\n",
    "\n",
    "def get_name(person):\n",
    "    return person[\"name\"]\n",
    "\n",
    "people=[{\"name\":\"sree\",\"age\":30},\n",
    "        {\"name\":\"kanta\",\"age\":40},\n",
    "        {\"name\":\"sri\",\"age\":50}]\n",
    "\n",
    "x=list(map(get_name,people))\n",
    "x"
   ]
  },
  {
   "cell_type": "code",
   "execution_count": null,
   "metadata": {},
   "outputs": [],
   "source": []
  },
  {
   "cell_type": "code",
   "execution_count": null,
   "metadata": {},
   "outputs": [],
   "source": []
  },
  {
   "cell_type": "code",
   "execution_count": null,
   "metadata": {},
   "outputs": [],
   "source": []
  },
  {
   "cell_type": "code",
   "execution_count": null,
   "metadata": {},
   "outputs": [],
   "source": []
  },
  {
   "cell_type": "code",
   "execution_count": null,
   "metadata": {},
   "outputs": [],
   "source": []
  },
  {
   "cell_type": "code",
   "execution_count": null,
   "metadata": {},
   "outputs": [],
   "source": []
  }
 ],
 "metadata": {
  "kernelspec": {
   "display_name": "base",
   "language": "python",
   "name": "python3"
  },
  "language_info": {
   "codemirror_mode": {
    "name": "ipython",
    "version": 3
   },
   "file_extension": ".py",
   "mimetype": "text/x-python",
   "name": "python",
   "nbconvert_exporter": "python",
   "pygments_lexer": "ipython3",
   "version": "3.11.5"
  }
 },
 "nbformat": 4,
 "nbformat_minor": 2
}
