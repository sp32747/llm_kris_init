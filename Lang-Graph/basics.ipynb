{
 "cells": [
  {
   "cell_type": "code",
   "execution_count": 1,
   "metadata": {},
   "outputs": [],
   "source": [
    "from typing import Annotated\n",
    "from typing_extensions import TypedDict\n",
    "\n",
    "from langgraph.graph import StateGraph, START, END\n",
    "from langgraph.graph.message import add_messages\n",
    "\n",
    "import os"
   ]
  },
  {
   "cell_type": "code",
   "execution_count": 2,
   "metadata": {},
   "outputs": [],
   "source": [
    "LANGCHAIN_API_KEY=os.getenv(\"LANGCHAIN_API_KEY\")\n",
    "LANGCHAIN_PROJECT=os.getenv(\"LANGCHAIN_PROJECT\")\n",
    "OPENAI_API_KEY=os.getenv(\"OPENAI_API_KEY\")\n",
    "LANGCHAIN_ENDPOINT=\"https://api.smith.langchain.com\"\n",
    "LANGCHAIN_TRACING_V2=True\n",
    "TAVILY_API_KEY=\"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\""
   ]
  },
  {
   "cell_type": "code",
   "execution_count": 3,
   "metadata": {},
   "outputs": [],
   "source": [
    "from langchain_openai import ChatOpenAI\n",
    "LLM = ChatOpenAI(temperature=0)\n"
   ]
  },
  {
   "cell_type": "code",
   "execution_count": 4,
   "metadata": {},
   "outputs": [],
   "source": [
    "from typing import Literal\n",
    "\n",
    "class TypedDictState(TypedDict):\n",
    "    name: str\n",
    "    mood: Literal[\"happy\",\"sad\"]\n"
   ]
  },
  {
   "cell_type": "code",
   "execution_count": 9,
   "metadata": {},
   "outputs": [
    {
     "data": {
      "image/jpeg": "[encoded data removed]",
      "text/plain": [
       "<IPython.core.display.Image object>"
      ]
     },
     "metadata": {},
     "output_type": "display_data"
    }
   ],
   "source": [
    "import random\n",
    "from IPython.display import Image, display\n",
    "from langchain_core.runnables.graph import  MermaidDrawMethod ,  CurveStyle\n",
    "from langgraph.graph import StateGraph, START, END\n",
    "\n",
    "\n",
    "def node_1(state):\n",
    "    print(\"---Node 1---\")\n",
    "    return {\"name\": state['name'] + \" is ... \"}\n",
    "\n",
    "def node_2(state):\n",
    "    print(\"---Node 2---\")\n",
    "    return {\"mood\": \"happy\"}\n",
    "\n",
    "def node_3(state):\n",
    "    print(\"---Node 3---\")\n",
    "    return {\"mood\": \"sad\"}\n",
    "\n",
    "def mood_selector(state)->Literal[\"node_2\", \"node_3\"]:\n",
    "    print(\"---Mood Selector---\")\n",
    "    if(random.random() < 0.5):\n",
    "        return \"node_2\"\n",
    "    \n",
    "    \n",
    "    return \"node_3\"\n",
    "    \n",
    "#build graph\n",
    "graph_builder=StateGraph(TypedDictState)\n",
    "\n",
    "graph_builder.add_node(\"node_1\", node_1)\n",
    "graph_builder.add_node(\"node_2\", node_2)\n",
    "graph_builder.add_node(\"node_3\", node_3)\n",
    "\n",
    "#create connections\n",
    "\n",
    "graph_builder.add_edge(START,\"node_1\")\n",
    "graph_builder.add_conditional_edges(\"node_1\", mood_selector)\n",
    "graph_builder.add_edge(\"node_2\", END)\n",
    "graph_builder.add_edge(\"node_3\", END)\n",
    "graph=graph_builder.compile()\n",
    "\n",
    "# View\n",
    "#display(Image(graph.get_graph().draw_mermaid_png()))\n",
    "display(Image(graph.get_graph(xray=True).draw_mermaid_png()))\n",
    "#Image(graph.get_graph().draw_mermaid_png(), width=1000, height=1000)"
   ]
  },
  {
   "cell_type": "code",
   "execution_count": 51,
   "metadata": {},
   "outputs": [
    {
     "name": "stdout",
     "output_type": "stream",
     "text": [
      "---Node 1---\n",
      "---Mood Selector---\n",
      "---Node 2---\n"
     ]
    },
    {
     "data": {
      "text/plain": [
       "{'name': 'sree is ... ', 'mood': 'happy'}"
      ]
     },
     "execution_count": 51,
     "metadata": {},
     "output_type": "execute_result"
    }
   ],
   "source": [
    "\n",
    "graph.invoke({\"name\":\"sree\"})\n"
   ]
  },
  {
   "cell_type": "code",
   "execution_count": 7,
   "metadata": {},
   "outputs": [
    {
     "data": {
      "text/plain": [
       "[{'url': 'https://www.thoughtco.com/definition-of-electron-chemistry-604447',\n",
       "  'content': 'An electron is a stable negatively charged component of an atom.Electrons exist outside of and surrounding the atom nucleus. Each electron carries one unit of negative charge (1.602 x 10-19 coulomb) and has a small mass as compared with that of a neutron or proton.Electrons are much less massive than protons or neutrons. The mass of an electron is 9.10938 x 10-31 kg.'},\n",
       " {'url': 'https://sciencenotes.org/what-is-an-electron/',\n",
       "  'content': 'An electron is a subatomic particle with a negative electrical charge. Electrons are subatomic particles. Atoms are made of protons, neutrons, and electrons. Of these three particles, the electron has the smallest mass. Here is the definition of the electron, along with its word origin, history, and interesting facts. Electron Definition'},\n",
       " {'url': 'https://scitechdaily.com/science-made-simple-what-are-electrons/',\n",
       "  'content': 'The electron is a subatomic particle that is present in all atoms. Unlike protons, neutrons, or the nuclei of atoms, electrons are elementary particles. This means they are not composed of even smaller particles. Also unlike protons and neutrons, electrons have essentially no mass. Finally, electrons are different from protons and neutrons in ...'}]"
      ]
     },
     "execution_count": 7,
     "metadata": {},
     "output_type": "execute_result"
    }
   ],
   "source": [
    "from langchain_community.tools.tavily_search import TavilySearchResults\n",
    "\n",
    "tavilysrch=TavilySearchResults(max_results=3)\n",
    "\n",
    "searchresults=tavilysrch.invoke(\"what is electron\")\n",
    "searchresults"
   ]
  },
  {
   "cell_type": "code",
   "execution_count": 35,
   "metadata": {},
   "outputs": [
    {
     "data": {
      "text/plain": [
       "0.29158009790716755"
      ]
     },
     "execution_count": 35,
     "metadata": {},
     "output_type": "execute_result"
    }
   ],
   "source": [
    "random.random()"
   ]
  },
  {
   "cell_type": "code",
   "execution_count": 53,
   "metadata": {},
   "outputs": [
    {
     "name": "stdout",
     "output_type": "stream",
     "text": [
      "Hello, srikant!\n"
     ]
    }
   ],
   "source": [
    "\n",
    "from langchain_core.runnables import RunnableLambda\n",
    "\n",
    "\n",
    "# Define a simple function\n",
    "def greet(name):\n",
    "   return f\"Hello, {name}!\"\n",
    "\n",
    "\n",
    "# Wrap the function in a RunnableWrapper\n",
    "greet_runnable = RunnableLambda(lambda x: greet(x))\n",
    "\n",
    "\n",
    "# Use the runnable to call the function\n",
    "result = greet_runnable.invoke(\"srikant\")\n",
    "print(result)  "
   ]
  },
  {
   "cell_type": "code",
   "execution_count": null,
   "metadata": {},
   "outputs": [],
   "source": []
  },
  {
   "cell_type": "code",
   "execution_count": null,
   "metadata": {},
   "outputs": [],
   "source": []
  }
 ],
 "metadata": {
  "kernelspec": {
   "display_name": "base",
   "language": "python",
   "name": "python3"
  },
  "language_info": {
   "codemirror_mode": {
    "name": "ipython",
    "version": 3
   },
   "file_extension": ".py",
   "mimetype": "text/x-python",
   "name": "python",
   "nbconvert_exporter": "python",
   "pygments_lexer": "ipython3",
   "version": "3.11.5"
  }
 },
 "nbformat": 4,
 "nbformat_minor": 2
}
