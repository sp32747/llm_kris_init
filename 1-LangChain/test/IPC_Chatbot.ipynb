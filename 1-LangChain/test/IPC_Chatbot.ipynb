{
  "cells": [
    {
      "cell_type": "markdown",
      "metadata": {
        "id": "TsSNpwNXeDLb"
      },
      "source": [
        "#🏛️Indian Penal Code Chatbot: Your Legal Assistant 🗣️"
      ]
    },
    {
      "cell_type": "code",
      "execution_count": 1,
      "metadata": {
        "id": "93bXmY47QHKL"
      },
      "outputs": [],
      "source": [
        "import os\n",
        "LANGCHAIN_API_KEY=os.getenv(\"LANGCHAIN_API_KEY\")\n",
        "LANGCHAIN_PROJECT=\"basic_project_model_io\"\n",
        "OPENAI_API_KEY=os.getenv(\"OPENAI_API_KEY\")\n",
        "TAVILY_API_KEY=os.getenv(\"TAVILY_API_KEY\")  \n",
        "LANGCHAIN_ENDPOINT=\"https://api.smith.langchain.com\"\n",
        "LANGCHAIN_TRACING_V2=True"
      ]
    },
    {
      "cell_type": "code",
      "execution_count": 2,
      "metadata": {
        "id": "3wJi1joTQIwp"
      },
      "outputs": [],
      "source": [
        "from langchain.document_loaders import PyPDFLoader"
      ]
    },
    {
      "cell_type": "code",
      "execution_count": 4,
      "metadata": {},
      "outputs": [
        {
          "name": "stdout",
          "output_type": "stream",
          "text": [
            "112\n"
          ]
        }
      ],
      "source": [
        "loader=PyPDFLoader(file_path=\"data/THE_INDIAN_PENAL_CODE.pdf\")\n",
        "pages=loader.load()\n",
        "print(len(pages))"
      ]
    },
    {
      "cell_type": "code",
      "execution_count": 5,
      "metadata": {},
      "outputs": [
        {
          "name": "stdout",
          "output_type": "stream",
          "text": [
            "Pages 112\n",
            "Lines 5724\n",
            "Words 89077\n",
            "Charecters 467193\n"
          ]
        }
      ],
      "source": [
        "full_text =\"\"\n",
        "for page in pages:\n",
        "  full_text += page.page_content\n",
        "\n",
        "print(\"Pages\", len(pages))\n",
        "print(\"Lines\" , len(full_text.split(\"\\n\")))\n",
        "print(\"Words\" , len(full_text.split(\" \")))\n",
        "print(\"Charecters\", len(full_text))"
      ]
    },
    {
      "cell_type": "markdown",
      "metadata": {
        "id": "Ug7hnYfoQTUa"
      },
      "source": [
        "### Step-2: Split the data into Chunks"
      ]
    },
    {
      "cell_type": "code",
      "execution_count": 6,
      "metadata": {
        "id": "8PX4bR9ZRGq6"
      },
      "outputs": [],
      "source": [
        "from langchain.text_splitter import RecursiveCharacterTextSplitter"
      ]
    },
    {
      "cell_type": "code",
      "execution_count": 7,
      "metadata": {
        "id": "fYKGWMOJdrg1"
      },
      "outputs": [
        {
          "name": "stdout",
          "output_type": "stream",
          "text": [
            "1957\n"
          ]
        }
      ],
      "source": [
        "text_splitter = RecursiveCharacterTextSplitter(chunk_size=300, chunk_overlap=30)\n",
        "chunks = text_splitter.split_documents(pages)\n",
        "print(len(chunks))"
      ]
    },
    {
      "cell_type": "markdown",
      "metadata": {
        "id": "gHskDM5eSSBD"
      },
      "source": [
        "#Step-3: Creating embeddings and Storing in Vector Stores"
      ]
    },
    {
      "cell_type": "code",
      "execution_count": 8,
      "metadata": {
        "id": "_rJN-tmwRGt6"
      },
      "outputs": [],
      "source": [
        "from langchain_openai import OpenAIEmbeddings\n",
        "## VectorStores\n",
        "from langchain_chroma import Chroma"
      ]
    },
    {
      "cell_type": "code",
      "execution_count": 9,
      "metadata": {
        "id": "PxDfzOX1dstr"
      },
      "outputs": [],
      "source": [
        "embeddings = OpenAIEmbeddings()"
      ]
    },
    {
      "cell_type": "code",
      "execution_count": 10,
      "metadata": {},
      "outputs": [],
      "source": [
        "IPC_rules_db= Chroma.from_documents(chunks,\n",
        "                                    embeddings,\n",
        "                                    persist_directory=\"vectorstores/IPC_rules_db\"\n",
        "                          )"
      ]
    },
    {
      "cell_type": "markdown",
      "metadata": {
        "id": "8XeBaA8iTr4R"
      },
      "source": [
        "#Step-4: Conversation and Retrieval Chain"
      ]
    },
    {
      "cell_type": "code",
      "execution_count": 12,
      "metadata": {},
      "outputs": [
        {
          "data": {
            "text/plain": [
              "[Document(page_content='reason to believe that such riot was likely to be commi tted, or that the unlawful assembly by which such \\nriot was committed was likely to be held, shall not use all lawful means in his power to prevent such riot \\nor assembly from taking place and for suppr essing and dispersing the same.', metadata={'page': 41, 'source': 'data/THE_INDIAN_PENAL_CODE.pdf'}),\n",
              " Document(page_content='5 \\n SECTIONS  \\n158. Being hired to take part in an unlawful assembly or riot; or to go armed.  \\n159. Affray.  \\n160. Punishment for committing affray.  \\nCHAPTER IX  \\nOF OFFENCESBY OR RELATING TO  PUBLIC  SERVANTS  \\n161. [Repealed. ]. \\n162. [Repealed. ]. \\n163. [Repealed. ]. \\n164. [Repealed. ].', metadata={'page': 4, 'source': 'data/THE_INDIAN_PENAL_CODE.pdf'}),\n",
              " Document(page_content='employed, to join or become members of an unlawful assembly, shall be punished with imprisonment of \\neither description for a term which may extend to six mont hs, or with fine, or with both.  \\n158. Being hired to take part in an unlawful assembly or riot .—Whoever is engaged, or hired, or', metadata={'page': 41, 'source': 'data/THE_INDIAN_PENAL_CODE.pdf'}),\n",
              " Document(page_content='member of an unlawful assembly, shall be punished with imprisonment of either description for a term \\nwhich may extend to two yea rs, or with fi ne, or with both.  \\n                                                           \\n1. Ins. by Act 14  of 1887, s. 79.', metadata={'page': 38, 'source': 'data/THE_INDIAN_PENAL_CODE.pdf'})]"
            ]
          },
          "execution_count": 12,
          "metadata": {},
          "output_type": "execute_result"
        }
      ],
      "source": [
        "retriever = IPC_rules_db.as_retriever()\n",
        "\n",
        "query = \"\"\"\n",
        "What is the section related to take part in an unlawful assembly or riot.\n",
        "\"\"\"\n",
        "result=retriever.invoke(query,top_k=3)\n",
        "result"
      ]
    },
    {
      "cell_type": "code",
      "execution_count": 15,
      "metadata": {},
      "outputs": [
        {
          "data": {
            "text/plain": [
              "4"
            ]
          },
          "execution_count": 15,
          "metadata": {},
          "output_type": "execute_result"
        }
      ],
      "source": [
        "#result[0].page_content\n",
        "len(result)"
      ]
    },
    {
      "cell_type": "code",
      "execution_count": 17,
      "metadata": {},
      "outputs": [
        {
          "name": "stdout",
          "output_type": "stream",
          "text": [
            "****** reason to believe that such riot was likely to be commi tted, or that the unlawful assembly by which such \n",
            "riot was committed was likely to be held, shall not use all lawful means in his power to prevent such riot \n",
            "or assembly from taking place and for suppr essing and dispersing the same.\n",
            "****** 5 \n",
            " SECTIONS  \n",
            "158. Being hired to take part in an unlawful assembly or riot; or to go armed.  \n",
            "159. Affray.  \n",
            "160. Punishment for committing affray.  \n",
            "CHAPTER IX  \n",
            "OF OFFENCESBY OR RELATING TO  PUBLIC  SERVANTS  \n",
            "161. [Repealed. ]. \n",
            "162. [Repealed. ]. \n",
            "163. [Repealed. ]. \n",
            "164. [Repealed. ].\n",
            "****** employed, to join or become members of an unlawful assembly, shall be punished with imprisonment of \n",
            "either description for a term which may extend to six mont hs, or with fine, or with both.  \n",
            "158. Being hired to take part in an unlawful assembly or riot .—Whoever is engaged, or hired, or\n",
            "****** member of an unlawful assembly, shall be punished with imprisonment of either description for a term \n",
            "which may extend to two yea rs, or with fi ne, or with both.  \n",
            "                                                           \n",
            "1. Ins. by Act 14  of 1887, s. 79.\n"
          ]
        }
      ],
      "source": [
        "for i in range(len(result)):\n",
        "     print(result[i].page_content)"
      ]
    },
    {
      "cell_type": "code",
      "execution_count": 18,
      "metadata": {
        "id": "m8GXpUu5SpKd"
      },
      "outputs": [],
      "source": [
        "\n",
        "from langchain.memory import ConversationBufferMemory\n",
        "from langchain.chains import ConversationChain\n",
        "from langchain_openai import ChatOpenAI"
      ]
    },
    {
      "cell_type": "code",
      "execution_count": 19,
      "metadata": {},
      "outputs": [],
      "source": [
        "llm=ChatOpenAI(temperature=0)"
      ]
    },
    {
      "cell_type": "code",
      "execution_count": 27,
      "metadata": {
        "id": "d9gHw7RsRGxE"
      },
      "outputs": [],
      "source": [
        "from langchain.chains import ConversationalRetrievalChain\n",
        "memory = ConversationBufferMemory()\n",
        "\n",
        "memory = ConversationBufferMemory(memory_key='chat_history', return_messages=True)\n",
        "conversational_RAG = ConversationalRetrievalChain.from_llm(llm=llm,\n",
        "                                                     retriever=IPC_rules_db.as_retriever(),\n",
        "                                                     memory=memory,\n",
        "                                                     #verbose=True\n",
        "                                                     )\n",
        "\n",
        "\n"
      ]
    },
    {
      "cell_type": "code",
      "execution_count": 28,
      "metadata": {},
      "outputs": [],
      "source": [
        "\n",
        "\n",
        "user_input=input(\"Your message:\")\n",
        "while user_input!=\"quit\":\n",
        "    print(\"AI message ==>\", conversational_RAG.invoke(input=user_input))\n",
        "    user_input=input(\"Your message: \")\n",
        "while user_input ==\"quit\":\n",
        "    memory.clear()\n",
        "    break"
      ]
    },
    {
      "cell_type": "code",
      "execution_count": null,
      "metadata": {
        "id": "bL6EpITJV_8V"
      },
      "outputs": [],
      "source": []
    },
    {
      "cell_type": "code",
      "execution_count": null,
      "metadata": {
        "id": "COMs0imsRGzy"
      },
      "outputs": [],
      "source": []
    }
  ],
  "metadata": {
    "colab": {
      "provenance": []
    },
    "kernelspec": {
      "display_name": "base",
      "language": "python",
      "name": "python3"
    },
    "language_info": {
      "codemirror_mode": {
        "name": "ipython",
        "version": 3
      },
      "file_extension": ".py",
      "mimetype": "text/x-python",
      "name": "python",
      "nbconvert_exporter": "python",
      "pygments_lexer": "ipython3",
      "version": "3.11.5"
    }
  },
  "nbformat": 4,
  "nbformat_minor": 0
}
