{
  "cells": [
    {
      "cell_type": "markdown",
      "metadata": {
        "id": "TsSNpwNXeDLb"
      },
      "source": [
        "#🏛️Indian Penal Code Chatbot: Your Legal Assistant 🗣️"
      ]
    },
    {
      "cell_type": "code",
      "execution_count": 1,
      "metadata": {
        "id": "93bXmY47QHKL"
      },
      "outputs": [],
      "source": [
        "import os\n",
        "LANGCHAIN_API_KEY=os.getenv(\"LANGCHAIN_API_KEY\")\n",
        "LANGCHAIN_PROJECT=\"basic_project_model_io\"\n",
        "OPENAI_API_KEY=os.getenv(\"OPENAI_API_KEY\")\n",
        "TAVILY_API_KEY=os.getenv(\"TAVILY_API_KEY\")  \n",
        "LANGCHAIN_ENDPOINT=\"https://api.smith.langchain.com\"\n",
        "LANGCHAIN_TRACING_V2=True"
      ]
    },
    {
      "cell_type": "code",
      "execution_count": 2,
      "metadata": {
        "id": "3wJi1joTQIwp"
      },
      "outputs": [],
      "source": [
        "from langchain.document_loaders import PyPDFLoader"
      ]
    },
    {
      "cell_type": "code",
      "execution_count": 3,
      "metadata": {},
      "outputs": [
        {
          "name": "stdout",
          "output_type": "stream",
          "text": [
            "112\n"
          ]
        }
      ],
      "source": [
        "loader=PyPDFLoader(file_path=\"data/THE_INDIAN_PENAL_CODE.pdf\")\n",
        "pages=loader.load()\n",
        "print(len(pages))"
      ]
    },
    {
      "cell_type": "code",
      "execution_count": 4,
      "metadata": {},
      "outputs": [
        {
          "name": "stdout",
          "output_type": "stream",
          "text": [
            "Pages 112\n",
            "Lines 5724\n",
            "Words 89077\n",
            "Charecters 467193\n"
          ]
        }
      ],
      "source": [
        "full_text =\"\"\n",
        "for page in pages:\n",
        "  full_text += page.page_content\n",
        "\n",
        "print(\"Pages\", len(pages))\n",
        "print(\"Lines\" , len(full_text.split(\"\\n\")))\n",
        "print(\"Words\" , len(full_text.split(\" \")))\n",
        "print(\"Charecters\", len(full_text))"
      ]
    },
    {
      "cell_type": "markdown",
      "metadata": {
        "id": "Ug7hnYfoQTUa"
      },
      "source": [
        "### Step-2: Split the data into Chunks"
      ]
    },
    {
      "cell_type": "code",
      "execution_count": 5,
      "metadata": {
        "id": "8PX4bR9ZRGq6"
      },
      "outputs": [],
      "source": [
        "from langchain.text_splitter import RecursiveCharacterTextSplitter"
      ]
    },
    {
      "cell_type": "code",
      "execution_count": 6,
      "metadata": {
        "id": "fYKGWMOJdrg1"
      },
      "outputs": [
        {
          "name": "stdout",
          "output_type": "stream",
          "text": [
            "1957\n"
          ]
        }
      ],
      "source": [
        "text_splitter = RecursiveCharacterTextSplitter(chunk_size=300, chunk_overlap=30)\n",
        "chunks = text_splitter.split_documents(pages)\n",
        "print(len(chunks))"
      ]
    },
    {
      "cell_type": "markdown",
      "metadata": {
        "id": "gHskDM5eSSBD"
      },
      "source": [
        "#Step-3: Creating embeddings and Storing in Vector Stores"
      ]
    },
    {
      "cell_type": "code",
      "execution_count": 7,
      "metadata": {
        "id": "_rJN-tmwRGt6"
      },
      "outputs": [
        {
          "name": "stderr",
          "output_type": "stream",
          "text": [
            "c:\\Users\\WIN-10\\anaconda3\\Lib\\site-packages\\opentelemetry\\proto\\collector\\trace\\v1\\trace_service_pb2_grpc.py:26: RuntimeWarning: The grpc package installed is at version 1.63.0, but the generated code in opentelemetry/proto/collector/trace/v1/trace_service_pb2_grpc.py depends on grpcio>=1.63.2. Please upgrade your grpc module to grpcio>=1.63.2 or downgrade your generated code using grpcio-tools<=1.63.0. This warning will become an error in 1.65.0, scheduled for release on June 25, 2024.\n",
            "  warnings.warn(\n"
          ]
        }
      ],
      "source": [
        "from langchain_openai import OpenAIEmbeddings\n",
        "## VectorStores\n",
        "from langchain_chroma import Chroma"
      ]
    },
    {
      "cell_type": "code",
      "execution_count": 8,
      "metadata": {
        "id": "PxDfzOX1dstr"
      },
      "outputs": [],
      "source": [
        "embeddings = OpenAIEmbeddings()"
      ]
    },
    {
      "cell_type": "code",
      "execution_count": 10,
      "metadata": {},
      "outputs": [],
      "source": [
        "IPC_rules_db= Chroma.from_documents(chunks,\n",
        "                                    embeddings,\n",
        "                                    persist_directory=\"vectorstores/IPC_rules_db\"\n",
        "                          )"
      ]
    },
    {
      "cell_type": "markdown",
      "metadata": {
        "id": "8XeBaA8iTr4R"
      },
      "source": [
        "#Step-4: Conversation and Retrieval Chain"
      ]
    },
    {
      "cell_type": "code",
      "execution_count": 11,
      "metadata": {},
      "outputs": [
        {
          "data": {
            "text/plain": [
              "[Document(page_content='374. Unlawful compulsory labour .—Whoever unlawfully compels any person  to labour against the \\nwill of that person, shall be punished with imprisonment of either description for a term which may \\nextend to one ye ar, or with fine, or with both.  \\n4[Sexual offences', metadata={'page': 83, 'source': 'data/THE_INDIAN_PENAL_CODE.pdf'}),\n",
              " Document(page_content='374. Unlawful compulsory labour .—Whoever unlawfully compels any person  to labour against the \\nwill of that person, shall be punished with imprisonment of either description for a term which may \\nextend to one ye ar, or with fine, or with both.  \\n4[Sexual offences', metadata={'page': 83, 'source': 'data/THE_INDIAN_PENAL_CODE.pdf'}),\n",
              " Document(page_content='rupees, or with both.  \\nExplanation .—The last section is subject to the s ame Explanation  as section 352.  \\nOf Kidnapping, Abduc tion, Slavery and Forced Labour  \\n359. Kidnapping .—Kidnapping is of two kinds: kidnapping from 1[India], and kidna pping from \\nlawful guardianship.', metadata={'page': 79, 'source': 'data/THE_INDIAN_PENAL_CODE.pdf'}),\n",
              " Document(page_content='rupees, or with both.  \\nExplanation .—The last section is subject to the s ame Explanation  as section 352.  \\nOf Kidnapping, Abduc tion, Slavery and Forced Labour  \\n359. Kidnapping .—Kidnapping is of two kinds: kidnapping from 1[India], and kidna pping from \\nlawful guardianship.', metadata={'page': 79, 'source': 'data/THE_INDIAN_PENAL_CODE.pdf'})]"
            ]
          },
          "execution_count": 11,
          "metadata": {},
          "output_type": "execute_result"
        }
      ],
      "source": [
        "retriever = IPC_rules_db.as_retriever()\n",
        "\n",
        "query = \"\"\"\n",
        "What is the section related to child labour.\n",
        "\"\"\"\n",
        "result=retriever.invoke(query,top_k=3)\n",
        "result"
      ]
    },
    {
      "cell_type": "code",
      "execution_count": 12,
      "metadata": {},
      "outputs": [
        {
          "data": {
            "text/plain": [
              "4"
            ]
          },
          "execution_count": 12,
          "metadata": {},
          "output_type": "execute_result"
        }
      ],
      "source": [
        "#result[0].page_content\n",
        "len(result)"
      ]
    },
    {
      "cell_type": "code",
      "execution_count": 13,
      "metadata": {},
      "outputs": [
        {
          "name": "stdout",
          "output_type": "stream",
          "text": [
            "374. Unlawful compulsory labour .—Whoever unlawfully compels any person  to labour against the \n",
            "will of that person, shall be punished with imprisonment of either description for a term which may \n",
            "extend to one ye ar, or with fine, or with both.  \n",
            "4[Sexual offences\n",
            "374. Unlawful compulsory labour .—Whoever unlawfully compels any person  to labour against the \n",
            "will of that person, shall be punished with imprisonment of either description for a term which may \n",
            "extend to one ye ar, or with fine, or with both.  \n",
            "4[Sexual offences\n",
            "rupees, or with both.  \n",
            "Explanation .—The last section is subject to the s ame Explanation  as section 352.  \n",
            "Of Kidnapping, Abduc tion, Slavery and Forced Labour  \n",
            "359. Kidnapping .—Kidnapping is of two kinds: kidnapping from 1[India], and kidna pping from \n",
            "lawful guardianship.\n",
            "rupees, or with both.  \n",
            "Explanation .—The last section is subject to the s ame Explanation  as section 352.  \n",
            "Of Kidnapping, Abduc tion, Slavery and Forced Labour  \n",
            "359. Kidnapping .—Kidnapping is of two kinds: kidnapping from 1[India], and kidna pping from \n",
            "lawful guardianship.\n"
          ]
        }
      ],
      "source": [
        "for i in range(len(result)):\n",
        "     print(result[i].page_content)"
      ]
    },
    {
      "cell_type": "code",
      "execution_count": 18,
      "metadata": {
        "id": "m8GXpUu5SpKd"
      },
      "outputs": [],
      "source": [
        "\n",
        "from langchain.memory import ConversationBufferMemory\n",
        "from langchain.chains import ConversationChain\n",
        "from langchain_openai import ChatOpenAI"
      ]
    },
    {
      "cell_type": "code",
      "execution_count": 19,
      "metadata": {},
      "outputs": [],
      "source": [
        "llm=ChatOpenAI(temperature=0)"
      ]
    },
    {
      "cell_type": "code",
      "execution_count": 27,
      "metadata": {
        "id": "d9gHw7RsRGxE"
      },
      "outputs": [],
      "source": [
        "from langchain.chains import ConversationalRetrievalChain\n",
        "memory = ConversationBufferMemory()\n",
        "\n",
        "memory = ConversationBufferMemory(memory_key='chat_history', return_messages=True)\n",
        "conversational_RAG = ConversationalRetrievalChain.from_llm(llm=llm,\n",
        "                                                     retriever=IPC_rules_db.as_retriever(),\n",
        "                                                     memory=memory,\n",
        "                                                     #verbose=True\n",
        "                                                     )\n",
        "\n",
        "\n"
      ]
    },
    {
      "cell_type": "code",
      "execution_count": 28,
      "metadata": {},
      "outputs": [],
      "source": [
        "\n",
        "\n",
        "user_input=input(\"Your message:\")\n",
        "while user_input!=\"quit\":\n",
        "    print(\"AI message ==>\", conversational_RAG.invoke(input=user_input))\n",
        "    user_input=input(\"Your message: \")\n",
        "while user_input ==\"quit\":\n",
        "    memory.clear()\n",
        "    break"
      ]
    },
    {
      "cell_type": "code",
      "execution_count": null,
      "metadata": {
        "id": "bL6EpITJV_8V"
      },
      "outputs": [],
      "source": []
    },
    {
      "cell_type": "code",
      "execution_count": null,
      "metadata": {
        "id": "COMs0imsRGzy"
      },
      "outputs": [],
      "source": []
    }
  ],
  "metadata": {
    "colab": {
      "provenance": []
    },
    "kernelspec": {
      "display_name": "base",
      "language": "python",
      "name": "python3"
    },
    "language_info": {
      "codemirror_mode": {
        "name": "ipython",
        "version": 3
      },
      "file_extension": ".py",
      "mimetype": "text/x-python",
      "name": "python",
      "nbconvert_exporter": "python",
      "pygments_lexer": "ipython3",
      "version": "3.11.5"
    }
  },
  "nbformat": 4,
  "nbformat_minor": 0
}
