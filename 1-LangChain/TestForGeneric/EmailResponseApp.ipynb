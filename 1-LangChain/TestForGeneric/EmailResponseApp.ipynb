{
 "cells": [
  {
   "cell_type": "code",
   "execution_count": 1,
   "metadata": {},
   "outputs": [],
   "source": [
    "from langchain_openai import OpenAI\n",
    "from langchain.prompts import PromptTemplate\n",
    "from langchain.chains import LLMChain\n",
    "import random as rand\n",
    "from langchain.document_loaders import WebBaseLoader\n",
    "import requests\n",
    "from langchain.document_loaders import TextLoader\n",
    "import os"
   ]
  },
  {
   "cell_type": "code",
   "execution_count": 2,
   "metadata": {},
   "outputs": [],
   "source": [
    "llm=OpenAI(temperature=0)"
   ]
  },
  {
   "cell_type": "code",
   "execution_count": 3,
   "metadata": {},
   "outputs": [],
   "source": [
    "from langchain.output_parsers import PydanticOutputParser\n",
    "from pydantic import BaseModel ,Field"
   ]
  },
  {
   "cell_type": "code",
   "execution_count": 4,
   "metadata": {},
   "outputs": [
    {
     "name": "stdout",
     "output_type": "stream",
     "text": [
      "The output should be formatted as a JSON instance that conforms to the JSON schema below.\n",
      "\n",
      "As an example, for the schema {\"properties\": {\"foo\": {\"title\": \"Foo\", \"description\": \"a list of strings\", \"type\": \"array\", \"items\": {\"type\": \"string\"}}}, \"required\": [\"foo\"]}\n",
      "the object {\"foo\": [\"bar\", \"baz\"]} is a well-formatted instance of the schema. The object {\"properties\": {\"foo\": [\"bar\", \"baz\"]}} is not well-formatted.\n",
      "\n",
      "Here is the output schema:\n",
      "```\n",
      "{\"properties\": {\"Email_Language\": {\"title\": \"Email Language\", \"description\": \"The Original Language of the Email\", \"type\": \"string\"}, \"Customer_ID\": {\"title\": \"Customer Id\", \"description\": \"The Customer ID mentioned in the mail\", \"type\": \"string\"}, \"English_email\": {\"title\": \"English Email\", \"description\": \"The email after translating to English\", \"type\": \"string\"}, \"Summary\": {\"title\": \"Summary\", \"description\": \"A 4 bullets point summary of the email\", \"type\": \"string\"}, \"Reply\": {\"title\": \"Reply\", \"description\": \"A polite  reply to the email in The Original Language of the Email  Email_Language\", \"type\": \"string\"}}, \"required\": [\"Email_Language\", \"Customer_ID\", \"English_email\", \"Summary\", \"Reply\"]}\n",
      "```\n"
     ]
    }
   ],
   "source": [
    "class EmailResponse(BaseModel):\n",
    "  Email_Language: str= Field(description= \"The Original Language of the Email\")\n",
    "  Customer_ID: str= Field(description= \"The Customer ID mentioned in the mail\")\n",
    "  English_email: str= Field(description= \"The email after translating to English\")\n",
    "  Summary: str= Field(description= \"A 4 bullets point summary of the email\")\n",
    " \n",
    "  Reply: str= Field(description= \"A polite  reply to the email in The Original Language of the Email  Email_Language\")\n",
    "\n",
    "custom_output_parser= PydanticOutputParser(pydantic_object=EmailResponse)\n",
    "print(custom_output_parser.get_format_instructions())"
   ]
  },
  {
   "cell_type": "code",
   "execution_count": 5,
   "metadata": {},
   "outputs": [
    {
     "name": "stdout",
     "output_type": "stream",
     "text": [
      "<class 'list'>\n",
      "\n",
      "Тема: Проблемы с последним заказом\n",
      "\n",
      "Уважаемая служба поддержки,\n",
      "\n",
      "Здравствуйте,\n",
      "\n",
      "Я обращаюсь к вам с проблемами, с которыми столкнулась после оформления последнего заказа на вашем сайте. Во-первых, товар, который я получила, не соответствует описанию на сайте. Во-вторых, один из заказанных мною товаров не был доставлен вообще.\n",
      "\n",
      "Пожалуйста, предоставьте мне информацию о том, как я могу вернуть неподходящий товар и получить недостающий товар из моего заказа. Мой номер заказа - 67890ABC, вы можете связаться со мной по электронной почте: olga.petrova@example.com.\n",
      "\n",
      "Спасибо за вашу помощь и ожидаю вашего скорого ответа.\n",
      "\n",
      "С уважением,\n",
      "Ольга Петрова\n"
     ]
    }
   ],
   "source": [
    "random_file=rand.choice(os.listdir(\"./Mail_Sample\"))\n",
    "loader = TextLoader((\"./Mail_Sample/\")+random_file)\n",
    "loaded_text= loader.load()\n",
    "print(type(loaded_text))\n",
    "#print(loaded_text)\n",
    "final_mail=loaded_text[0].page_content\n",
    "print(final_mail)"
   ]
  },
  {
   "cell_type": "code",
   "execution_count": 6,
   "metadata": {},
   "outputs": [
    {
     "name": "stdout",
     "output_type": "stream",
     "text": [
      "\n",
      "{\n",
      "    \"Email_Language\": \"Russian\",\n",
      "    \"Customer_ID\": \"67890ABC\",\n",
      "    \"English_email\": \"Subject: Problems with the last order\\n\\nDear customer support,\\n\\nHello,\\n\\nI am writing to you with the problems I encountered after placing my last order on your website. Firstly, the product I received does not match the description on the website. Secondly, one of the items I ordered was not delivered at all.\\n\\nPlease provide me with information on how I can return the unsuitable product and receive the missing item from my order. My order number is 67890ABC, and you can reach me via email at olga.petrova@example.com.\\n\\nThank you for your assistance and I look forward to your prompt response.\\n\\nSincerely,\\nOlga Petrova\",\n",
      "    \"Summary\": \"- Product received does not match description\\n- One item missing from order\\n- Requesting information on return and replacement\\n- Order number: 67890ABC\",\n",
      "    \"Reply\": \"Уважаемая Ольга Петрова,\\n\\nБлагодарим вас за обращение в нашу службу поддержки. Мы\n"
     ]
    }
   ],
   "source": [
    "template=\"\"\"\n",
    "Take the email as input. Email text is {email}\n",
    "{format_instructions}\n",
    "\"\"\"\n",
    "prompt=PromptTemplate(template=template,\n",
    "                      input_variables=[\"email\",\"format_instructions\"])\n",
    "\n",
    "\n",
    "\n",
    "chain=LLMChain(prompt=prompt,\n",
    "               llm=llm)\n",
    "\n",
    "result=chain.invoke({\"email\":final_mail,\n",
    "                     \"format_instructions\":custom_output_parser.get_format_instructions()})\n",
    "print(result[\"text\"])"
   ]
  },
  {
   "cell_type": "code",
   "execution_count": null,
   "metadata": {},
   "outputs": [],
   "source": [
    "\n"
   ]
  },
  {
   "cell_type": "code",
   "execution_count": null,
   "metadata": {},
   "outputs": [],
   "source": []
  },
  {
   "cell_type": "code",
   "execution_count": null,
   "metadata": {},
   "outputs": [],
   "source": []
  },
  {
   "cell_type": "code",
   "execution_count": null,
   "metadata": {},
   "outputs": [],
   "source": []
  },
  {
   "cell_type": "code",
   "execution_count": null,
   "metadata": {},
   "outputs": [],
   "source": []
  },
  {
   "cell_type": "code",
   "execution_count": null,
   "metadata": {},
   "outputs": [],
   "source": []
  },
  {
   "cell_type": "code",
   "execution_count": null,
   "metadata": {},
   "outputs": [],
   "source": []
  },
  {
   "cell_type": "code",
   "execution_count": null,
   "metadata": {},
   "outputs": [],
   "source": []
  }
 ],
 "metadata": {
  "kernelspec": {
   "display_name": "base",
   "language": "python",
   "name": "python3"
  },
  "language_info": {
   "codemirror_mode": {
    "name": "ipython",
    "version": 3
   },
   "file_extension": ".py",
   "mimetype": "text/x-python",
   "name": "python",
   "nbconvert_exporter": "python",
   "pygments_lexer": "ipython3",
   "version": "3.11.5"
  }
 },
 "nbformat": 4,
 "nbformat_minor": 2
}
