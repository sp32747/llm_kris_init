{
 "cells": [
  {
   "cell_type": "code",
   "execution_count": 1,
   "metadata": {},
   "outputs": [],
   "source": [
    "from pydantic import BaseModel"
   ]
  },
  {
   "cell_type": "code",
   "execution_count": 2,
   "metadata": {},
   "outputs": [],
   "source": [
    "class User(BaseModel):\n",
    "    name:str\n",
    "    age:int\n",
    "\n",
    "user=User(name=\"sri\",age=12)"
   ]
  },
  {
   "cell_type": "code",
   "execution_count": 4,
   "metadata": {},
   "outputs": [
    {
     "data": {
      "text/plain": [
       "'sri'"
      ]
     },
     "execution_count": 4,
     "metadata": {},
     "output_type": "execute_result"
    }
   ],
   "source": [
    "user.name"
   ]
  },
  {
   "cell_type": "code",
   "execution_count": 7,
   "metadata": {},
   "outputs": [
    {
     "data": {
      "text/plain": [
       "12"
      ]
     },
     "execution_count": 7,
     "metadata": {},
     "output_type": "execute_result"
    }
   ],
   "source": [
    "user.age"
   ]
  },
  {
   "cell_type": "markdown",
   "metadata": {},
   "source": [
    "### custom output parser using pydantic"
   ]
  },
  {
   "cell_type": "code",
   "execution_count": 9,
   "metadata": {},
   "outputs": [],
   "source": [
    "from langchain.output_parsers import PydanticOutputParser\n",
    "from pydantic import BaseModel ,Field"
   ]
  },
  {
   "cell_type": "code",
   "execution_count": 12,
   "metadata": {},
   "outputs": [],
   "source": [
    "class Scientist(BaseModel):\n",
    "    name:str=Field(\"name of the scientist\")\n",
    "    dob:str=Field(\"dob of the scientist\")\n",
    "    field_of_study:str=Field(\"field of study of the scientist in 4 lines\")\n",
    "    bio:str=Field(\"biography of th scientist\")\n",
    "\n"
   ]
  },
  {
   "cell_type": "code",
   "execution_count": 13,
   "metadata": {},
   "outputs": [
    {
     "name": "stdout",
     "output_type": "stream",
     "text": [
      "The output should be formatted as a JSON instance that conforms to the JSON schema below.\n",
      "\n",
      "As an example, for the schema {\"properties\": {\"foo\": {\"title\": \"Foo\", \"description\": \"a list of strings\", \"type\": \"array\", \"items\": {\"type\": \"string\"}}}, \"required\": [\"foo\"]}\n",
      "the object {\"foo\": [\"bar\", \"baz\"]} is a well-formatted instance of the schema. The object {\"properties\": {\"foo\": [\"bar\", \"baz\"]}} is not well-formatted.\n",
      "\n",
      "Here is the output schema:\n",
      "```\n",
      "{\"properties\": {\"name\": {\"title\": \"Name\", \"default\": \"name of the scientist\", \"type\": \"string\"}, \"dob\": {\"title\": \"Dob\", \"default\": \"dob of the scientist\", \"type\": \"string\"}, \"field_of_study\": {\"title\": \"Field Of Study\", \"default\": \"field of study of the scientist in 4 lines\", \"type\": \"string\"}, \"bio\": {\"title\": \"Bio\", \"default\": \"biography of th scientist\", \"type\": \"string\"}}}\n",
      "```\n"
     ]
    }
   ],
   "source": [
    "custom_output_parser=PydanticOutputParser(pydantic_object=Scientist)\n",
    "print(custom_output_parser.get_format_instructions())\n"
   ]
  },
  {
   "cell_type": "code",
   "execution_count": 14,
   "metadata": {},
   "outputs": [],
   "source": [
    "from langchain.llms import OpenAI\n",
    "from langchain.prompts import PromptTemplate\n",
    "from langchain.chains import LLMChain"
   ]
  },
  {
   "cell_type": "code",
   "execution_count": 19,
   "metadata": {},
   "outputs": [
    {
     "name": "stdout",
     "output_type": "stream",
     "text": [
      "\n",
      "{\"name\": \"Srinivasa Ramanujan\", \"dob\": \"22 December 1887\", \"field_of_study\": \"Mathematics\\nNumber theory\\nInfinite series\\nAnalytic number theory\", \"bio\": \"Srinivasa Ramanujan (22 December 1887 – 26 April 1920) was an Indian mathematician who lived during the British Rule in India. Though he had almost no formal training in pure mathematics, he made substantial contributions to mathematical analysis, number theory, infinite series, and continued fractions, including solutions to mathematical problems considered to be unsolvable. Ramanujan initially developed his own mathematical research in isolation; it was quickly recognized by Indian mathematicians. When his skills became apparent to the wider mathematical community, centred in Europe at the time, he began a correspondence with the English mathematician G. H. Hardy. As a result of this correspondence, Hardy arranged for Ramanujan to travel to Cambridge where he studied at Trinity College, Cambridge, from 1914 to 1919. He died of illness, malnutrition and possibly liver infection in 1920 at the age of 32.\"}\n"
     ]
    }
   ],
   "source": [
    "llm=OpenAI(temperature=0)\n",
    "\n",
    "template=\"\"\"take the name of the scientis{name} and fill the details {format_instructions}\n",
    "\"\"\"\n",
    "\n",
    "prompt=PromptTemplate(\n",
    "    input_variables=[\"name\", \"format_instructions\"],\n",
    "    template=template\n",
    ")\n",
    "\n",
    "#prompt.format(name=\"indian\", format_instruction=\"abc\")\n",
    "\n",
    "chain=LLMChain(prompt=prompt,\n",
    "               llm=llm)\n",
    "\n",
    "result=chain.invoke({\"name\":\"Ramanujan\",\n",
    "                      \"format_instructions\":custom_output_parser.get_format_instructions()} )\n",
    "\n",
    "\n"
   ]
  },
  {
   "cell_type": "code",
   "execution_count": 22,
   "metadata": {},
   "outputs": [
    {
     "name": "stdout",
     "output_type": "stream",
     "text": [
      "\n",
      "{\"name\": \"Srinivasa Ramanujan\", \"dob\": \"22 December 1887\", \"field_of_study\": \"Mathematics\\nNumber theory\\nInfinite series\\nAnalytic number theory\", \"bio\": \"Srinivasa Ramanujan (22 December 1887 – 26 April 1920) was an Indian mathematician who lived during the British Rule in India. Though he had almost no formal training in pure mathematics, he made substantial contributions to mathematical analysis, number theory, infinite series, and continued fractions, including solutions to mathematical problems considered to be unsolvable. Ramanujan initially developed his own mathematical research in isolation; it was quickly recognized by Indian mathematicians. When his skills became apparent to the wider mathematical community, centred in Europe at the time, he began a correspondence with the English mathematician G. H. Hardy. As a result of this correspondence, Hardy arranged for Ramanujan to travel to Cambridge where he studied at Trinity College, Cambridge, from 1914 to 1919. He died of illness, malnutrition and possibly liver infection in 1920 at the age of 32.\"}\n"
     ]
    }
   ],
   "source": [
    "print(result[\"text\"])"
   ]
  },
  {
   "cell_type": "code",
   "execution_count": null,
   "metadata": {},
   "outputs": [],
   "source": []
  },
  {
   "cell_type": "code",
   "execution_count": null,
   "metadata": {},
   "outputs": [],
   "source": []
  },
  {
   "cell_type": "code",
   "execution_count": null,
   "metadata": {},
   "outputs": [],
   "source": []
  }
 ],
 "metadata": {
  "kernelspec": {
   "display_name": "llm-genai-transformer",
   "language": "python",
   "name": "python3"
  },
  "language_info": {
   "codemirror_mode": {
    "name": "ipython",
    "version": 3
   },
   "file_extension": ".py",
   "mimetype": "text/x-python",
   "name": "python",
   "nbconvert_exporter": "python",
   "pygments_lexer": "ipython3",
   "version": "3.13.2"
  }
 },
 "nbformat": 4,
 "nbformat_minor": 2
}
