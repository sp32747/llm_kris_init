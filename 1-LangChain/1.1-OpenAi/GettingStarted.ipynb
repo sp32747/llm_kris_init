{
 "cells": [
  {
   "cell_type": "code",
   "execution_count": 66,
   "metadata": {},
   "outputs": [
    {
     "name": "stdout",
     "output_type": "stream",
     "text": [
      "GenAiAppWithOpenAI\n"
     ]
    }
   ],
   "source": [
    "import os\n"
   ]
  },
  {
   "cell_type": "code",
   "execution_count": 67,
   "metadata": {},
   "outputs": [],
   "source": [
    "os.environ['LANGCHAIN_API_KEY']=os.environ[\"LANGCHAIN_API_KEY\"]\n",
    "os.environ['LANGCHAIN_PROJECT']=os.environ[\"LANGCHAIN_PROJECT\"]\n",
    "os.environ['OPENAI_API_KEY']=os.environ[\"OPENAI_API_KEY\"]\n",
    "LANGCHAIN_ENDPOINT=\"https://api.smith.langchain.com\"\n",
    "LANGCHAIN_TRACING_V2=True\n"
   ]
  },
  {
   "cell_type": "code",
   "execution_count": 6,
   "metadata": {},
   "outputs": [
    {
     "name": "stdout",
     "output_type": "stream",
     "text": [
      "client=<openai.resources.chat.completions.Completions object at 0x000001F0C19DC510> async_client=<openai.resources.chat.completions.AsyncCompletions object at 0x000001F0C19E0250> model_name='gpt-4o' temperature=0.0 openai_api_key=SecretStr('**********') openai_proxy=''\n"
     ]
    }
   ],
   "source": [
    "from langchain_openai import ChatOpenAI\n",
    "\n",
    "llm=ChatOpenAI(temperature=0,model=\"gpt-4o\")\n",
    "print(llm)"
   ]
  },
  {
   "cell_type": "code",
   "execution_count": 8,
   "metadata": {},
   "outputs": [
    {
     "name": "stdout",
     "output_type": "stream",
     "text": [
      "content='As of October 2023, India has won the ICC T20 World Cup once. They claimed the title in the inaugural tournament in 2007, held in South Africa, by defeating Pakistan in the final.' response_metadata={'token_usage': {'completion_tokens': 43, 'prompt_tokens': 17, 'total_tokens': 60, 'prompt_tokens_details': {'cached_tokens': 0}, 'completion_tokens_details': {'reasoning_tokens': 0}}, 'model_name': 'gpt-4o', 'system_fingerprint': 'fp_72bbfa6014', 'finish_reason': 'stop', 'logprobs': None} id='run-daf4819a-8b79-44a2-afbf-2903d7676f23-0'\n"
     ]
    }
   ],
   "source": [
    "result=llm.invoke(\"how many time india won t20 cricket world cup\")\n",
    "print(result)\n",
    "\n"
   ]
  },
  {
   "cell_type": "code",
   "execution_count": 42,
   "metadata": {},
   "outputs": [],
   "source": [
    "#result.pretty_print()"
   ]
  },
  {
   "cell_type": "code",
   "execution_count": 16,
   "metadata": {},
   "outputs": [
    {
     "data": {
      "text/plain": [
       "ChatPromptTemplate(input_variables=['msgs'], messages=[SystemMessagePromptTemplate(prompt=PromptTemplate(input_variables=[], template='act as You are a geologist  and answer it 2 bullet points')), HumanMessagePromptTemplate(prompt=PromptTemplate(input_variables=['msgs'], template='{msgs}'))])"
      ]
     },
     "execution_count": 16,
     "metadata": {},
     "output_type": "execute_result"
    }
   ],
   "source": [
    "from langchain_core.prompts import ChatPromptTemplate\n",
    "\n",
    "prompt_template = ChatPromptTemplate.from_messages([\n",
    "    (\"system\", \"act as You are a geologist  and answer it 2 bullet points\"), \n",
    "    (\"user\", \"{msgs}\") # <-- This is the changed part\n",
    "])\n",
    "\n",
    "prompt_template\n"
   ]
  },
  {
   "cell_type": "code",
   "execution_count": 17,
   "metadata": {},
   "outputs": [],
   "source": [
    "chain=prompt_template|llm\n",
    "response=chain.invoke(\"what is earth\")\n"
   ]
  },
  {
   "cell_type": "code",
   "execution_count": 18,
   "metadata": {},
   "outputs": [
    {
     "name": "stdout",
     "output_type": "stream",
     "text": [
      "==================================\u001b[1m Ai Message \u001b[0m==================================\n",
      "\n",
      "- Earth is the third planet from the Sun in our solar system and is the only known celestial body to support life. It is composed of several layers, including the crust, mantle, outer core, and inner core, each with distinct physical and chemical properties.\n",
      "\n",
      "- Geologically, Earth is a dynamic planet characterized by processes such as plate tectonics, volcanism, erosion, and sedimentation, which continuously shape its surface and contribute to the formation of various landforms and geological features.\n"
     ]
    }
   ],
   "source": [
    "response.pretty_print()"
   ]
  },
  {
   "cell_type": "code",
   "execution_count": 60,
   "metadata": {},
   "outputs": [
    {
     "data": {
      "text/plain": [
       "langchain_core.messages.ai.AIMessage"
      ]
     },
     "execution_count": 60,
     "metadata": {},
     "output_type": "execute_result"
    }
   ],
   "source": [
    "type(response)"
   ]
  },
  {
   "cell_type": "code",
   "execution_count": 63,
   "metadata": {},
   "outputs": [
    {
     "name": "stdout",
     "output_type": "stream",
     "text": [
      "Tennis? Oh! Tennis is a fun game where you hit a ball with a racket! You try to hit the ball over a net and the other person tries to hit it back. It's kinda like playing catch but with a bouncy ball and rackets! And you get to run around a lot! Whee!\n"
     ]
    }
   ],
   "source": [
    "from langchain_core.output_parsers import StrOutputParser\n",
    "\n",
    "output_parser=StrOutputParser()\n",
    "\n",
    "chain=prompt_template|llm|output_parser\n",
    "\n",
    "response=chain.invoke(\"what is tennis\")\n",
    "print(response)"
   ]
  },
  {
   "cell_type": "code",
   "execution_count": 22,
   "metadata": {},
   "outputs": [],
   "source": [
    "#chat prompt template\n",
    "\n",
    "\n",
    "from langchain.prompts import PromptTemplate\n",
    "\n",
    "prompt_template_restro_name=PromptTemplate(\n",
    "    input_variables=['cusine'],\n",
    "    template=\"i want to open {cuisine} restaurant ,suggest some fancy names and return with comma separated values\"\n",
    ")\n",
    "\n",
    "#prompt_template_restro_name.format(cuisine=\"indian\")\n",
    "\n"
   ]
  },
  {
   "cell_type": "code",
   "execution_count": 29,
   "metadata": {},
   "outputs": [
    {
     "data": {
      "text/plain": [
       "StringPromptValue(text='i want to open content=\\'It seems like your message is incomplete. Could you please provide more context or specify what you would like to know or discuss about \"American\"? Are you referring to American culture, history, politics, or something else?\\' response_metadata={\\'token_usage\\': {\\'completion_tokens\\': 43, \\'prompt_tokens\\': 8, \\'total_tokens\\': 51, \\'prompt_tokens_details\\': {\\'cached_tokens\\': 0}, \\'completion_tokens_details\\': {\\'reasoning_tokens\\': 0}}, \\'model_name\\': \\'gpt-4o\\', \\'system_fingerprint\\': \\'fp_a7d06e42a7\\', \\'finish_reason\\': \\'stop\\', \\'logprobs\\': None} id=\\'run-e33dc2bc-5ebd-48be-ab7d-9b909f1c88be-0\\' restaurant ,suggest some fancy names and return with comma separated values')"
      ]
     },
     "execution_count": 29,
     "metadata": {},
     "output_type": "execute_result"
    }
   ],
   "source": [
    "from langchain.chains import LLMChain\n",
    "from langchain_core.output_parsers import StrOutputParser\n",
    "\n",
    "output_parser=StrOutputParser()\n",
    "\n",
    "chain_llm= llm|prompt_template_restro_name\n",
    "chain_llm.invoke(\"american\")"
   ]
  },
  {
   "cell_type": "code",
   "execution_count": null,
   "metadata": {},
   "outputs": [],
   "source": []
  },
  {
   "cell_type": "code",
   "execution_count": null,
   "metadata": {},
   "outputs": [],
   "source": []
  },
  {
   "cell_type": "code",
   "execution_count": null,
   "metadata": {},
   "outputs": [],
   "source": []
  },
  {
   "cell_type": "code",
   "execution_count": null,
   "metadata": {},
   "outputs": [],
   "source": []
  }
 ],
 "metadata": {
  "kernelspec": {
   "display_name": "base",
   "language": "python",
   "name": "python3"
  },
  "language_info": {
   "codemirror_mode": {
    "name": "ipython",
    "version": 3
   },
   "file_extension": ".py",
   "mimetype": "text/x-python",
   "name": "python",
   "nbconvert_exporter": "python",
   "pygments_lexer": "ipython3",
   "version": "3.11.5"
  }
 },
 "nbformat": 4,
 "nbformat_minor": 2
}
